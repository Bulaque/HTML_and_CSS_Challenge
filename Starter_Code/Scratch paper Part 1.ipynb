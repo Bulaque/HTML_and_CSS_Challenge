{
 "cells": [
  {
   "cell_type": "code",
   "execution_count": 1,
   "id": "9aa30aaa",
   "metadata": {},
   "outputs": [],
   "source": [
    "# Import Splinter and BeautifulSoup\n",
    "from splinter import Browser\n",
    "from bs4 import BeautifulSoup"
   ]
  },
  {
   "cell_type": "code",
   "execution_count": 2,
   "id": "a726022a",
   "metadata": {},
   "outputs": [],
   "source": [
    "browser = Browser('chrome')"
   ]
  },
  {
   "cell_type": "code",
   "execution_count": 3,
   "id": "5f76109d",
   "metadata": {},
   "outputs": [],
   "source": [
    "# Visit the Mars news site\n",
    "url = 'https://static.bc-edx.com/data/web/mars_news/index.html'\n",
    "browser.visit(url)"
   ]
  },
  {
   "cell_type": "code",
   "execution_count": 4,
   "id": "268e01dd",
   "metadata": {},
   "outputs": [],
   "source": [
    "# Create a Beautiful Soup object\n",
    "html = browser.html\n",
    "soup = BeautifulSoup(html, 'html.parser')"
   ]
  },
  {
   "cell_type": "code",
   "execution_count": 5,
   "id": "1b5a70c7",
   "metadata": {},
   "outputs": [
    {
     "name": "stdout",
     "output_type": "stream",
     "text": [
      "[<div class=\"content_title\">NASA's MAVEN Observes Martian Light Show Caused by Major Solar Storm</div>, <div class=\"content_title\">NASA Prepares to Say 'Farewell' to InSight Spacecraft</div>, <div class=\"content_title\">NASA and ESA Agree on Next Steps to Return Mars Samples to Earth</div>, <div class=\"content_title\">NASA's InSight Lander Detects Stunning Meteoroid Impact on Mars</div>, <div class=\"content_title\">NASA To Host Briefing on InSight, Mars Reconnaissance Orbiter Findings</div>, <div class=\"content_title\">Why NASA Is Trying To Crash Land on Mars</div>, <div class=\"content_title\">Curiosity Mars Rover Reaches Long-Awaited Salty Region</div>, <div class=\"content_title\">Mars Mission Shields Up for Tests</div>, <div class=\"content_title\">NASA's InSight Waits Out Dust Storm</div>, <div class=\"content_title\">NASA's InSight 'Hears' Its First Meteoroid Impacts on Mars</div>, <div class=\"content_title\">NASA's Perseverance Rover Investigates Geologically Rich Mars Terrain</div>, <div class=\"content_title\">NASA to Host Briefing on Perseverance Mars Rover Mission Operations</div>, <div class=\"content_title\">NASA's Perseverance Makes New Discoveries in Mars' Jezero Crater</div>, <div class=\"content_title\">10 Years Since Landing, NASA's Curiosity Mars Rover Still Has Drive</div>, <div class=\"content_title\">SAM's Top 5 Discoveries Aboard NASA's Curiosity Rover at Mars</div>]\n"
     ]
    }
   ],
   "source": [
    "# Extract all the text elements\n",
    "All_text = soup.find_all('div', class_='content_title')\n",
    "print(All_text)"
   ]
  },
  {
   "cell_type": "code",
   "execution_count": null,
   "id": "b971ead0",
   "metadata": {},
   "outputs": [],
   "source": []
  }
 ],
 "metadata": {
  "kernelspec": {
   "display_name": "Python 3 (ipykernel)",
   "language": "python",
   "name": "python3"
  },
  "language_info": {
   "codemirror_mode": {
    "name": "ipython",
    "version": 3
   },
   "file_extension": ".py",
   "mimetype": "text/x-python",
   "name": "python",
   "nbconvert_exporter": "python",
   "pygments_lexer": "ipython3",
   "version": "3.11.5"
  }
 },
 "nbformat": 4,
 "nbformat_minor": 5
}
